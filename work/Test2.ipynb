{
 "cells": [
  {
   "cell_type": "code",
   "execution_count": 1,
   "id": "ca666946-c64d-4ee5-ab29-e69f98891792",
   "metadata": {},
   "outputs": [
    {
     "name": "stdout",
     "output_type": "stream",
     "text": [
      "Hello for the 0 time!\n",
      "Hello for the 1 time!\n",
      "Hello for the 2 time!\n",
      "Hello for the 3 time!\n",
      "Hello for the 4 time!\n",
      "Hello for the 5 time!\n",
      "Hello for the 6 time!\n",
      "Hello for the 7 time!\n",
      "Hello for the 8 time!\n",
      "Hello for the 9 time!\n"
     ]
    }
   ],
   "source": [
    "for i in range(10):\n",
    "    print(\"Hello for the \" + str(i) + \" time!\")"
   ]
  },
  {
   "cell_type": "code",
   "execution_count": 2,
   "id": "ce5a44f7-a875-4bf5-a36f-a9459f70fd72",
   "metadata": {},
   "outputs": [],
   "source": [
    "import redis"
   ]
  },
  {
   "cell_type": "code",
   "execution_count": 3,
   "id": "2b45a45c-fcdb-43aa-9522-20de41422f20",
   "metadata": {},
   "outputs": [
    {
     "name": "stdout",
     "output_type": "stream",
     "text": [
      "b'18.5'\n"
     ]
    }
   ],
   "source": [
    "r = redis.Redis(host='my_redis')\n",
    "r.set('temperature', 18.5)\n",
    "print(r.get('temperature'))"
   ]
  },
  {
   "cell_type": "code",
   "execution_count": null,
   "id": "348f4642-d550-4c15-a291-82b9da66b7c2",
   "metadata": {},
   "outputs": [],
   "source": []
  }
 ],
 "metadata": {
  "kernelspec": {
   "display_name": "Python 3 (ipykernel)",
   "language": "python",
   "name": "python3"
  },
  "language_info": {
   "codemirror_mode": {
    "name": "ipython",
    "version": 3
   },
   "file_extension": ".py",
   "mimetype": "text/x-python",
   "name": "python",
   "nbconvert_exporter": "python",
   "pygments_lexer": "ipython3",
   "version": "3.10.4"
  }
 },
 "nbformat": 4,
 "nbformat_minor": 5
}
